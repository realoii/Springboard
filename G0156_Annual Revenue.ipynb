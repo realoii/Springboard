{
 "cells": [
  {
   "cell_type": "markdown",
   "metadata": {},
   "source": [
    "File name needs to be updated"
   ]
  },
  {
   "cell_type": "code",
   "execution_count": 14,
   "metadata": {},
   "outputs": [],
   "source": [
    "import pandas as pd\n",
    "from IPython.display import display\n",
    "import re\n",
    "from datetime import datetime\n",
    "import matplotlib.pyplot as plt\n",
    "# read file\n",
    "df = pd.read_csv(r'C:\\Users\\sabri\\Documents\\GitHub\\Springboard\\G0156_Annual Revenue\\01-07_G0156.csv',sep = ',', header = None, encoding = 'unicode_escape') \n",
    "#add header \n",
    "df.columns = ['WO#', 'Company', 'Customer', 'Quantity', 'Unit_Price', 'Discount', 'Revenue', 'Time', 'Priority', 'Item_Code', 'Billing_Desc', 'Invoice_Data', 'Data_Created', 'Territory', 'Location','Lab', 'Salesperson']\n"
   ]
  },
  {
   "cell_type": "code",
   "execution_count": 2,
   "metadata": {},
   "outputs": [
    {
     "name": "stdout",
     "output_type": "stream",
     "text": [
      "<class 'pandas.core.frame.DataFrame'>\n",
      "RangeIndex: 62 entries, 0 to 61\n",
      "Data columns (total 17 columns):\n",
      " #   Column        Non-Null Count  Dtype \n",
      "---  ------        --------------  ----- \n",
      " 0   WO#           62 non-null     object\n",
      " 1   Company       62 non-null     object\n",
      " 2   Customer      62 non-null     object\n",
      " 3   Quantity      62 non-null     int64 \n",
      " 4   Unit_Price    62 non-null     int64 \n",
      " 5   Discount      62 non-null     int64 \n",
      " 6   Revenue       62 non-null     int64 \n",
      " 7   Time          62 non-null     object\n",
      " 8   Priority      62 non-null     object\n",
      " 9   Item_Code     62 non-null     object\n",
      " 10  Billing_Desc  62 non-null     object\n",
      " 11  Invoice_Data  62 non-null     object\n",
      " 12  Data_Created  62 non-null     object\n",
      " 13  Territory     53 non-null     object\n",
      " 14  Location      62 non-null     object\n",
      " 15  Lab           62 non-null     object\n",
      " 16  Salesperson   62 non-null     object\n",
      "dtypes: int64(4), object(13)\n",
      "memory usage: 8.4+ KB\n"
     ]
    }
   ],
   "source": [
    "df.info()"
   ]
  },
  {
   "cell_type": "code",
   "execution_count": 3,
   "metadata": {},
   "outputs": [
    {
     "data": {
      "text/html": [
       "<div>\n",
       "<style scoped>\n",
       "    .dataframe tbody tr th:only-of-type {\n",
       "        vertical-align: middle;\n",
       "    }\n",
       "\n",
       "    .dataframe tbody tr th {\n",
       "        vertical-align: top;\n",
       "    }\n",
       "\n",
       "    .dataframe thead th {\n",
       "        text-align: right;\n",
       "    }\n",
       "</style>\n",
       "<table border=\"1\" class=\"dataframe\">\n",
       "  <thead>\n",
       "    <tr style=\"text-align: right;\">\n",
       "      <th></th>\n",
       "      <th>WO#</th>\n",
       "      <th>Company</th>\n",
       "      <th>Customer</th>\n",
       "      <th>Quantity</th>\n",
       "      <th>Unit_Price</th>\n",
       "      <th>Discount</th>\n",
       "      <th>Revenue</th>\n",
       "      <th>Time</th>\n",
       "      <th>Priority</th>\n",
       "      <th>Item_Code</th>\n",
       "      <th>Billing_Desc</th>\n",
       "      <th>Invoice_Data</th>\n",
       "      <th>Data_Created</th>\n",
       "      <th>Territory</th>\n",
       "      <th>Location</th>\n",
       "      <th>Lab</th>\n",
       "      <th>Salesperson</th>\n",
       "    </tr>\n",
       "  </thead>\n",
       "  <tbody>\n",
       "    <tr>\n",
       "      <th>0</th>\n",
       "      <td>22-00380</td>\n",
       "      <td>DUPONT</td>\n",
       "      <td>STAPHANIE LOUIE</td>\n",
       "      <td>-14</td>\n",
       "      <td>2400</td>\n",
       "      <td>0</td>\n",
       "      <td>-33600</td>\n",
       "      <td>EA</td>\n",
       "      <td>P</td>\n",
       "      <td>G0156-LCU-P-R</td>\n",
       "      <td>Priority LC-MS Analysis</td>\n",
       "      <td>4/28/2022 0:00</td>\n",
       "      <td>1/11/2022 9:38</td>\n",
       "      <td>BAYA</td>\n",
       "      <td>FREMONT</td>\n",
       "      <td>ORGANIC</td>\n",
       "      <td>FLOYD.MCCLUNG</td>\n",
       "    </tr>\n",
       "    <tr>\n",
       "      <th>1</th>\n",
       "      <td>22-00380</td>\n",
       "      <td>DUPONT</td>\n",
       "      <td>STAPHANIE LOUIE</td>\n",
       "      <td>14</td>\n",
       "      <td>2400</td>\n",
       "      <td>0</td>\n",
       "      <td>33600</td>\n",
       "      <td>EA</td>\n",
       "      <td>P</td>\n",
       "      <td>G0156-LCU-P-R</td>\n",
       "      <td>Priority LC-MS Analysis</td>\n",
       "      <td>4/28/2022 15:21</td>\n",
       "      <td>1/11/2022 9:38</td>\n",
       "      <td>BAYA</td>\n",
       "      <td>FREMONT</td>\n",
       "      <td>ORGANIC</td>\n",
       "      <td>FLOYD.MCCLUNG</td>\n",
       "    </tr>\n",
       "    <tr>\n",
       "      <th>2</th>\n",
       "      <td>22-00380</td>\n",
       "      <td>DUPONT</td>\n",
       "      <td>STAPHANIE LOUIE</td>\n",
       "      <td>14</td>\n",
       "      <td>2400</td>\n",
       "      <td>0</td>\n",
       "      <td>33600</td>\n",
       "      <td>EA</td>\n",
       "      <td>P</td>\n",
       "      <td>G0156-LCU-P-R</td>\n",
       "      <td>Priority LC-MS Analysis</td>\n",
       "      <td>5/31/2022 0:00</td>\n",
       "      <td>1/11/2022 9:38</td>\n",
       "      <td>BAYA</td>\n",
       "      <td>FREMONT</td>\n",
       "      <td>ORGANIC</td>\n",
       "      <td>FLOYD.MCCLUNG</td>\n",
       "    </tr>\n",
       "    <tr>\n",
       "      <th>3</th>\n",
       "      <td>22-02102</td>\n",
       "      <td>JSR MICRO INC</td>\n",
       "      <td>SIRISH RIMAL</td>\n",
       "      <td>1</td>\n",
       "      <td>832</td>\n",
       "      <td>0</td>\n",
       "      <td>832</td>\n",
       "      <td>EA</td>\n",
       "      <td>N</td>\n",
       "      <td>G0156-LCU-N-R</td>\n",
       "      <td>LC-MS Analysis</td>\n",
       "      <td>3/9/2022 0:00</td>\n",
       "      <td>2/18/2022 15:44</td>\n",
       "      <td>PACW</td>\n",
       "      <td>FREMONT</td>\n",
       "      <td>ORGANIC</td>\n",
       "      <td>JERRY.SMITH</td>\n",
       "    </tr>\n",
       "    <tr>\n",
       "      <th>4</th>\n",
       "      <td>22-02102</td>\n",
       "      <td>JSR MICRO INC</td>\n",
       "      <td>SIRISH RIMAL</td>\n",
       "      <td>1</td>\n",
       "      <td>832</td>\n",
       "      <td>0</td>\n",
       "      <td>832</td>\n",
       "      <td>EA</td>\n",
       "      <td>N</td>\n",
       "      <td>G0156-LCU-N-R</td>\n",
       "      <td>LC-MS Analysis</td>\n",
       "      <td>3/9/2022 0:00</td>\n",
       "      <td>2/18/2022 15:44</td>\n",
       "      <td>PACW</td>\n",
       "      <td>FREMONT</td>\n",
       "      <td>ORGANIC</td>\n",
       "      <td>JERRY.SMITH</td>\n",
       "    </tr>\n",
       "  </tbody>\n",
       "</table>\n",
       "</div>"
      ],
      "text/plain": [
       "        WO#        Company         Customer  Quantity  Unit_Price  Discount  \\\n",
       "0  22-00380         DUPONT  STAPHANIE LOUIE       -14        2400         0   \n",
       "1  22-00380         DUPONT  STAPHANIE LOUIE        14        2400         0   \n",
       "2  22-00380         DUPONT  STAPHANIE LOUIE        14        2400         0   \n",
       "3  22-02102  JSR MICRO INC     SIRISH RIMAL         1         832         0   \n",
       "4  22-02102  JSR MICRO INC     SIRISH RIMAL         1         832         0   \n",
       "\n",
       "   Revenue Time Priority      Item_Code             Billing_Desc  \\\n",
       "0   -33600   EA        P  G0156-LCU-P-R  Priority LC-MS Analysis   \n",
       "1    33600   EA        P  G0156-LCU-P-R  Priority LC-MS Analysis   \n",
       "2    33600   EA        P  G0156-LCU-P-R  Priority LC-MS Analysis   \n",
       "3      832   EA        N  G0156-LCU-N-R           LC-MS Analysis   \n",
       "4      832   EA        N  G0156-LCU-N-R           LC-MS Analysis   \n",
       "\n",
       "      Invoice_Data     Data_Created Territory Location      Lab    Salesperson  \n",
       "0   4/28/2022 0:00   1/11/2022 9:38      BAYA  FREMONT  ORGANIC  FLOYD.MCCLUNG  \n",
       "1  4/28/2022 15:21   1/11/2022 9:38      BAYA  FREMONT  ORGANIC  FLOYD.MCCLUNG  \n",
       "2   5/31/2022 0:00   1/11/2022 9:38      BAYA  FREMONT  ORGANIC  FLOYD.MCCLUNG  \n",
       "3    3/9/2022 0:00  2/18/2022 15:44      PACW  FREMONT  ORGANIC    JERRY.SMITH  \n",
       "4    3/9/2022 0:00  2/18/2022 15:44      PACW  FREMONT  ORGANIC    JERRY.SMITH  "
      ]
     },
     "execution_count": 3,
     "metadata": {},
     "output_type": "execute_result"
    }
   ],
   "source": [
    "df.head()"
   ]
  },
  {
   "cell_type": "markdown",
   "metadata": {},
   "source": [
    "calculate # of Priority samples"
   ]
  },
  {
   "cell_type": "code",
   "execution_count": 4,
   "metadata": {},
   "outputs": [
    {
     "name": "stdout",
     "output_type": "stream",
     "text": [
      "Total number of priority samples is  28\n"
     ]
    }
   ],
   "source": [
    "# Total # of priority samples \n",
    "Priority = df[df['Priority']=='P']['Quantity'].sum()\n",
    "print('Total number of priority samples is ', Priority)"
   ]
  },
  {
   "cell_type": "markdown",
   "metadata": {},
   "source": [
    "Figure out # of companies worked with and respective sample number and revenue"
   ]
  },
  {
   "cell_type": "code",
   "execution_count": 5,
   "metadata": {},
   "outputs": [],
   "source": [
    "#extract month from Invoice_Data column\n",
    "Month=[datetime.strptime(i, '%m/%d/%Y %H:%M').month for i in df['Invoice_Data']]"
   ]
  },
  {
   "cell_type": "code",
   "execution_count": 6,
   "metadata": {},
   "outputs": [
    {
     "name": "stdout",
     "output_type": "stream",
     "text": [
      "<class 'pandas.core.frame.DataFrame'>\n",
      "RangeIndex: 62 entries, 0 to 61\n",
      "Data columns (total 18 columns):\n",
      " #   Column        Non-Null Count  Dtype \n",
      "---  ------        --------------  ----- \n",
      " 0   WO#           62 non-null     object\n",
      " 1   Company       62 non-null     object\n",
      " 2   Customer      62 non-null     object\n",
      " 3   Quantity      62 non-null     int64 \n",
      " 4   Unit_Price    62 non-null     int64 \n",
      " 5   Discount      62 non-null     int64 \n",
      " 6   Revenue       62 non-null     int64 \n",
      " 7   Time          62 non-null     object\n",
      " 8   Priority      62 non-null     object\n",
      " 9   Item_Code     62 non-null     object\n",
      " 10  Billing_Desc  62 non-null     object\n",
      " 11  Invoice_Data  62 non-null     object\n",
      " 12  Data_Created  62 non-null     object\n",
      " 13  Territory     53 non-null     object\n",
      " 14  Location      62 non-null     object\n",
      " 15  Lab           62 non-null     object\n",
      " 16  Salesperson   62 non-null     object\n",
      " 17  Month         62 non-null     int64 \n",
      "dtypes: int64(5), object(13)\n",
      "memory usage: 8.8+ KB\n"
     ]
    }
   ],
   "source": [
    "#add a column 'Month' to the df\n",
    "df['Month']=Month\n",
    "df.info()"
   ]
  },
  {
   "cell_type": "code",
   "execution_count": 7,
   "metadata": {},
   "outputs": [
    {
     "data": {
      "text/html": [
       "<div>\n",
       "<style scoped>\n",
       "    .dataframe tbody tr th:only-of-type {\n",
       "        vertical-align: middle;\n",
       "    }\n",
       "\n",
       "    .dataframe tbody tr th {\n",
       "        vertical-align: top;\n",
       "    }\n",
       "\n",
       "    .dataframe thead th {\n",
       "        text-align: right;\n",
       "    }\n",
       "</style>\n",
       "<table border=\"1\" class=\"dataframe\">\n",
       "  <thead>\n",
       "    <tr style=\"text-align: right;\">\n",
       "      <th></th>\n",
       "      <th></th>\n",
       "      <th>Quantity</th>\n",
       "      <th>Revenue</th>\n",
       "    </tr>\n",
       "    <tr>\n",
       "      <th>Month</th>\n",
       "      <th>Company</th>\n",
       "      <th></th>\n",
       "      <th></th>\n",
       "    </tr>\n",
       "  </thead>\n",
       "  <tbody>\n",
       "    <tr>\n",
       "      <th>3</th>\n",
       "      <th>JSR MICRO INC</th>\n",
       "      <td>3</td>\n",
       "      <td>2496</td>\n",
       "    </tr>\n",
       "    <tr>\n",
       "      <th rowspan=\"3\" valign=\"top\">4</th>\n",
       "      <th>DUPONT</th>\n",
       "      <td>0</td>\n",
       "      <td>0</td>\n",
       "    </tr>\n",
       "    <tr>\n",
       "      <th>JSR MICRO INC</th>\n",
       "      <td>8</td>\n",
       "      <td>13312</td>\n",
       "    </tr>\n",
       "    <tr>\n",
       "      <th>NALCO WATER</th>\n",
       "      <td>9</td>\n",
       "      <td>7470</td>\n",
       "    </tr>\n",
       "    <tr>\n",
       "      <th rowspan=\"2\" valign=\"top\">5</th>\n",
       "      <th>DUPONT</th>\n",
       "      <td>14</td>\n",
       "      <td>33600</td>\n",
       "    </tr>\n",
       "    <tr>\n",
       "      <th>JSR MICRO INC</th>\n",
       "      <td>15</td>\n",
       "      <td>12480</td>\n",
       "    </tr>\n",
       "    <tr>\n",
       "      <th>6</th>\n",
       "      <th>JSR MICRO INC</th>\n",
       "      <td>11</td>\n",
       "      <td>14144</td>\n",
       "    </tr>\n",
       "    <tr>\n",
       "      <th rowspan=\"2\" valign=\"top\">7</th>\n",
       "      <th>JSR MICRO INC</th>\n",
       "      <td>4</td>\n",
       "      <td>3328</td>\n",
       "    </tr>\n",
       "    <tr>\n",
       "      <th>KANTO CORPORATION</th>\n",
       "      <td>9</td>\n",
       "      <td>7488</td>\n",
       "    </tr>\n",
       "  </tbody>\n",
       "</table>\n",
       "</div>"
      ],
      "text/plain": [
       "                         Quantity  Revenue\n",
       "Month Company                             \n",
       "3     JSR MICRO INC             3     2496\n",
       "4     DUPONT                    0        0\n",
       "      JSR MICRO INC             8    13312\n",
       "      NALCO WATER               9     7470\n",
       "5     DUPONT                   14    33600\n",
       "      JSR MICRO INC            15    12480\n",
       "6     JSR MICRO INC            11    14144\n",
       "7     JSR MICRO INC             4     3328\n",
       "      KANTO CORPORATION         9     7488"
      ]
     },
     "execution_count": 7,
     "metadata": {},
     "output_type": "execute_result"
    }
   ],
   "source": [
    "#generate a summary table (w/o priority sample #)\n",
    "df_summary = df.groupby(['Month','Company']).sum()[['Quantity','Revenue']]\n",
    "df_summary"
   ]
  },
  {
   "cell_type": "code",
   "execution_count": 8,
   "metadata": {},
   "outputs": [
    {
     "data": {
      "text/html": [
       "<div>\n",
       "<style scoped>\n",
       "    .dataframe tbody tr th:only-of-type {\n",
       "        vertical-align: middle;\n",
       "    }\n",
       "\n",
       "    .dataframe tbody tr th {\n",
       "        vertical-align: top;\n",
       "    }\n",
       "\n",
       "    .dataframe thead th {\n",
       "        text-align: right;\n",
       "    }\n",
       "</style>\n",
       "<table border=\"1\" class=\"dataframe\">\n",
       "  <thead>\n",
       "    <tr style=\"text-align: right;\">\n",
       "      <th></th>\n",
       "      <th></th>\n",
       "      <th>Quantity</th>\n",
       "    </tr>\n",
       "    <tr>\n",
       "      <th>Month</th>\n",
       "      <th>Company</th>\n",
       "      <th></th>\n",
       "    </tr>\n",
       "  </thead>\n",
       "  <tbody>\n",
       "    <tr>\n",
       "      <th rowspan=\"2\" valign=\"top\">4</th>\n",
       "      <th>DUPONT</th>\n",
       "      <td>0</td>\n",
       "    </tr>\n",
       "    <tr>\n",
       "      <th>JSR MICRO INC</th>\n",
       "      <td>8</td>\n",
       "    </tr>\n",
       "    <tr>\n",
       "      <th>5</th>\n",
       "      <th>DUPONT</th>\n",
       "      <td>14</td>\n",
       "    </tr>\n",
       "    <tr>\n",
       "      <th>6</th>\n",
       "      <th>JSR MICRO INC</th>\n",
       "      <td>6</td>\n",
       "    </tr>\n",
       "  </tbody>\n",
       "</table>\n",
       "</div>"
      ],
      "text/plain": [
       "                     Quantity\n",
       "Month Company                \n",
       "4     DUPONT                0\n",
       "      JSR MICRO INC         8\n",
       "5     DUPONT               14\n",
       "6     JSR MICRO INC         6"
      ]
     },
     "execution_count": 8,
     "metadata": {},
     "output_type": "execute_result"
    }
   ],
   "source": [
    "#goal: priority df, if P use 'quantity', if N use '0'. So the final df has the same # of rows before concat with df_summary\n",
    "\n",
    "\n",
    "df_priority=df[df['Priority']=='P']\n",
    "df_priority=df_priority.groupby(['Month','Company']).sum()[['Quantity']]\n",
    "df_priority# #of rows is different from df_summary"
   ]
  },
  {
   "cell_type": "code",
   "execution_count": 9,
   "metadata": {},
   "outputs": [
    {
     "data": {
      "text/html": [
       "<div>\n",
       "<style scoped>\n",
       "    .dataframe tbody tr th:only-of-type {\n",
       "        vertical-align: middle;\n",
       "    }\n",
       "\n",
       "    .dataframe tbody tr th {\n",
       "        vertical-align: top;\n",
       "    }\n",
       "\n",
       "    .dataframe thead th {\n",
       "        text-align: right;\n",
       "    }\n",
       "</style>\n",
       "<table border=\"1\" class=\"dataframe\">\n",
       "  <thead>\n",
       "    <tr style=\"text-align: right;\">\n",
       "      <th></th>\n",
       "      <th>Quantity</th>\n",
       "      <th>Revenue</th>\n",
       "    </tr>\n",
       "    <tr>\n",
       "      <th>Month</th>\n",
       "      <th></th>\n",
       "      <th></th>\n",
       "    </tr>\n",
       "  </thead>\n",
       "  <tbody>\n",
       "    <tr>\n",
       "      <th>3</th>\n",
       "      <td>3</td>\n",
       "      <td>2496</td>\n",
       "    </tr>\n",
       "    <tr>\n",
       "      <th>4</th>\n",
       "      <td>17</td>\n",
       "      <td>20782</td>\n",
       "    </tr>\n",
       "    <tr>\n",
       "      <th>5</th>\n",
       "      <td>29</td>\n",
       "      <td>46080</td>\n",
       "    </tr>\n",
       "    <tr>\n",
       "      <th>6</th>\n",
       "      <td>11</td>\n",
       "      <td>14144</td>\n",
       "    </tr>\n",
       "    <tr>\n",
       "      <th>7</th>\n",
       "      <td>13</td>\n",
       "      <td>10816</td>\n",
       "    </tr>\n",
       "  </tbody>\n",
       "</table>\n",
       "</div>"
      ],
      "text/plain": [
       "       Quantity  Revenue\n",
       "Month                   \n",
       "3             3     2496\n",
       "4            17    20782\n",
       "5            29    46080\n",
       "6            11    14144\n",
       "7            13    10816"
      ]
     },
     "execution_count": 9,
     "metadata": {},
     "output_type": "execute_result"
    }
   ],
   "source": [
    "#calculate monthly summary (w/o priority sample #)\n",
    "df_monthly=df.groupby(['Month']).sum()[['Quantity', 'Revenue']]\n",
    "df_monthly"
   ]
  },
  {
   "cell_type": "code",
   "execution_count": 10,
   "metadata": {},
   "outputs": [
    {
     "data": {
      "text/plain": [
       "94318"
      ]
     },
     "execution_count": 10,
     "metadata": {},
     "output_type": "execute_result"
    }
   ],
   "source": [
    "#annual total revenue\n",
    "G0156_Revenue_2022 = df_monthly['Revenue'].sum()\n",
    "G0156_Revenue_2022"
   ]
  },
  {
   "cell_type": "code",
   "execution_count": 11,
   "metadata": {},
   "outputs": [
    {
     "data": {
      "text/plain": [
       "73"
      ]
     },
     "execution_count": 11,
     "metadata": {},
     "output_type": "execute_result"
    }
   ],
   "source": [
    "#annual total # of samples\n",
    "G0156_Samples_2022 = df_monthly['Quantity'].sum()\n",
    "G0156_Samples_2022"
   ]
  },
  {
   "cell_type": "markdown",
   "metadata": {},
   "source": [
    "Further dig into the data, monthly revenue, monthly # of samplels, etc."
   ]
  },
  {
   "cell_type": "code",
   "execution_count": 12,
   "metadata": {},
   "outputs": [
    {
     "data": {
      "image/png": "[encoded data removed]",
      "text/plain": [
       "<Figure size 576x288 with 1 Axes>"
      ]
     },
     "metadata": {
      "needs_background": "light"
     },
     "output_type": "display_data"
    }
   ],
   "source": [
    "plt.figure(figsize = (8,4))\n",
    "plt.bar(df_monthly.index.values, df_monthly['Quantity'],  width=0.2)\n",
    "plt.xticks(df_monthly.index.values)\n",
    "plt.xlabel('Month')\n",
    "plt.ylabel('# of total samples/month')\n",
    "plt.show()"
   ]
  },
  {
   "cell_type": "code",
   "execution_count": 13,
   "metadata": {},
   "outputs": [
    {
     "data": {
      "image/png": "[encoded data removed]",
      "text/plain": [
       "<Figure size 576x288 with 1 Axes>"
      ]
     },
     "metadata": {
      "needs_background": "light"
     },
     "output_type": "display_data"
    }
   ],
   "source": [
    "plt.figure(figsize = (8,4))\n",
    "plt.bar(df_monthly.index.values, df_monthly['Revenue'],  width=0.2)\n",
    "plt.xticks(df_monthly.index.values)\n",
    "plt.xlabel('Month')\n",
    "plt.ylabel('Revenue $/month')\n",
    "plt.show()"
   ]
  }
 ],
 "metadata": {
  "kernelspec": {
   "display_name": "Python 3",
   "language": "python",
   "name": "python3"
  },
  "language_info": {
   "codemirror_mode": {
    "name": "ipython",
    "version": 3
   },
   "file_extension": ".py",
   "mimetype": "text/x-python",
   "name": "python",
   "nbconvert_exporter": "python",
   "pygments_lexer": "ipython3",
   "version": "3.8.8"
  }
 },
 "nbformat": 4,
 "nbformat_minor": 2
}
